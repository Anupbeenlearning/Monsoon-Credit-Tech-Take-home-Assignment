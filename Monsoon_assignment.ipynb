{
  "nbformat": 4,
  "nbformat_minor": 0,
  "metadata": {
    "colab": {
      "provenance": []
    },
    "kernelspec": {
      "name": "python3",
      "display_name": "Python 3"
    },
    "language_info": {
      "name": "python"
    }
  },
  "cells": [
    {
      "cell_type": "markdown",
      "source": [
        "Problem 1 : Calculator summation problem"
      ],
      "metadata": {
        "id": "rO7AUKQws92h"
      }
    },
    {
      "cell_type": "code",
      "execution_count": 3,
      "metadata": {
        "colab": {
          "base_uri": "https://localhost:8080/"
        },
        "id": "xNGRippis4gu",
        "outputId": "8efa73b5-5b3c-42af-c1fc-0b933c89d927"
      },
      "outputs": [
        {
          "output_type": "stream",
          "name": "stdout",
          "text": [
            "56 78\n",
            "24\n"
          ]
        }
      ],
      "source": [
        "#monsoon problem\n",
        "def CodingChallenge(strParam):\n",
        "    a, b = strParam.split()\n",
        "\n",
        "    # Pad shorter string with leading zeros\n",
        "    max_len = max(len(a), len(b))\n",
        "    a = a.zfill(max_len)\n",
        "    b = b.zfill(max_len)\n",
        "\n",
        "    # Add digit-by-digit without carry\n",
        "    result = \"\"\n",
        "    for da, db in zip(a, b):\n",
        "        result += str((int(da) + int(db)) % 10)\n",
        "\n",
        "    return int(result)  # remove leading zeros in final output\n",
        "\n",
        "# keep this function call here\n",
        "print(CodingChallenge(input()))"
      ]
    },
    {
      "cell_type": "markdown",
      "source": [
        "Problem 2 :  Array problem"
      ],
      "metadata": {
        "id": "bwNklejFt2Kn"
      }
    },
    {
      "cell_type": "code",
      "source": [
        "def CodingChallenge(strArr):\n",
        "    arr = [x.strip().strip('\"') for x in strArr]\n",
        "    required = set(\"012345\")\n",
        "    best_str = \"\"\n",
        "    best_i, best_j = None, None\n",
        "\n",
        "    n = len(arr)\n",
        "    for i in range(n):\n",
        "        for j in range(i+2, n):  # ensure non-consecutive\n",
        "            combined = arr[i] + arr[j]\n",
        "            if set(combined) >= required:  # contains all 0-5\n",
        "                if len(combined) > len(best_str) or \\\n",
        "                   (len(combined) == len(best_str) and (best_i is None or i < best_i or (i == best_i and j < best_j))):\n",
        "                    best_str = combined\n",
        "                    best_i, best_j = i, j\n",
        "\n",
        "    return best_str if best_str else \"-1\"\n",
        "\n",
        "# Keep this function call here\n",
        "print(CodingChallenge(input().split(\",\")))"
      ],
      "metadata": {
        "colab": {
          "base_uri": "https://localhost:8080/"
        },
        "id": "99ptXdJBtprE",
        "outputId": "b8dd9025-199b-4218-d9b1-0c1367e76f3b"
      },
      "execution_count": 4,
      "outputs": [
        {
          "output_type": "stream",
          "name": "stdout",
          "text": [
            "\"012\", \"45\", \"6789\", \"012345\", \"50\"\n",
            "012012345\n"
          ]
        }
      ]
    },
    {
      "cell_type": "code",
      "source": [],
      "metadata": {
        "id": "i7y79HssuQgY"
      },
      "execution_count": null,
      "outputs": []
    }
  ]
}